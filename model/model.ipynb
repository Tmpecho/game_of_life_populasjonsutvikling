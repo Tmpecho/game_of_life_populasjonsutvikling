{
 "cells": [
  {
   "cell_type": "code",
   "id": "initial_id",
   "metadata": {
    "collapsed": true,
    "ExecuteTime": {
     "end_time": "2024-05-14T18:22:49.011145Z",
     "start_time": "2024-05-14T18:22:18.526588Z"
    }
   },
   "source": [
    "import tensorflow as tf\n",
    "import matplotlib.pyplot as plt\n",
    "import pandas as pd\n",
    "from sklearn.model_selection import train_test_split\n",
    "from sklearn.preprocessing import StandardScaler"
   ],
   "outputs": [],
   "execution_count": 1
  },
  {
   "metadata": {},
   "cell_type": "markdown",
   "source": "## Load the data",
   "id": "2fa3157e79315417"
  },
  {
   "metadata": {
    "ExecuteTime": {
     "end_time": "2024-05-15T06:50:22.687713Z",
     "start_time": "2024-05-15T06:50:16.826933Z"
    }
   },
   "cell_type": "code",
   "source": [
    "data_path = '/Users/johan/IdeaProjects/progmod/src/game_of_life_project/simulation_data/simulation_data1.csv'\n",
    "\n",
    "data = pd.read_csv(data_path)"
   ],
   "id": "73b511f895863a1c",
   "outputs": [],
   "execution_count": 202
  },
  {
   "metadata": {
    "ExecuteTime": {
     "end_time": "2024-05-15T06:50:22.911157Z",
     "start_time": "2024-05-15T06:50:22.742222Z"
    }
   },
   "cell_type": "code",
   "source": "data",
   "id": "1ee3a69b9e69a5bd",
   "outputs": [
    {
     "data": {
      "text/plain": [
       "         Population  Generation Grid Size  Density\n",
       "0                32           0     20x20     0.09\n",
       "1                 4           1     20x20     0.09\n",
       "2                 0           2     20x20     0.09\n",
       "3                 0           3     20x20     0.09\n",
       "4                 0           4     20x20     0.09\n",
       "...             ...         ...       ...      ...\n",
       "7199995        3818         995   300x300     0.57\n",
       "7199996        3868         996   300x300     0.57\n",
       "7199997        3871         997   300x300     0.57\n",
       "7199998        3770         998   300x300     0.57\n",
       "7199999        3770         999   300x300     0.57\n",
       "\n",
       "[7200000 rows x 4 columns]"
      ],
      "text/html": [
       "<div>\n",
       "<style scoped>\n",
       "    .dataframe tbody tr th:only-of-type {\n",
       "        vertical-align: middle;\n",
       "    }\n",
       "\n",
       "    .dataframe tbody tr th {\n",
       "        vertical-align: top;\n",
       "    }\n",
       "\n",
       "    .dataframe thead th {\n",
       "        text-align: right;\n",
       "    }\n",
       "</style>\n",
       "<table border=\"1\" class=\"dataframe\">\n",
       "  <thead>\n",
       "    <tr style=\"text-align: right;\">\n",
       "      <th></th>\n",
       "      <th>Population</th>\n",
       "      <th>Generation</th>\n",
       "      <th>Grid Size</th>\n",
       "      <th>Density</th>\n",
       "    </tr>\n",
       "  </thead>\n",
       "  <tbody>\n",
       "    <tr>\n",
       "      <th>0</th>\n",
       "      <td>32</td>\n",
       "      <td>0</td>\n",
       "      <td>20x20</td>\n",
       "      <td>0.09</td>\n",
       "    </tr>\n",
       "    <tr>\n",
       "      <th>1</th>\n",
       "      <td>4</td>\n",
       "      <td>1</td>\n",
       "      <td>20x20</td>\n",
       "      <td>0.09</td>\n",
       "    </tr>\n",
       "    <tr>\n",
       "      <th>2</th>\n",
       "      <td>0</td>\n",
       "      <td>2</td>\n",
       "      <td>20x20</td>\n",
       "      <td>0.09</td>\n",
       "    </tr>\n",
       "    <tr>\n",
       "      <th>3</th>\n",
       "      <td>0</td>\n",
       "      <td>3</td>\n",
       "      <td>20x20</td>\n",
       "      <td>0.09</td>\n",
       "    </tr>\n",
       "    <tr>\n",
       "      <th>4</th>\n",
       "      <td>0</td>\n",
       "      <td>4</td>\n",
       "      <td>20x20</td>\n",
       "      <td>0.09</td>\n",
       "    </tr>\n",
       "    <tr>\n",
       "      <th>...</th>\n",
       "      <td>...</td>\n",
       "      <td>...</td>\n",
       "      <td>...</td>\n",
       "      <td>...</td>\n",
       "    </tr>\n",
       "    <tr>\n",
       "      <th>7199995</th>\n",
       "      <td>3818</td>\n",
       "      <td>995</td>\n",
       "      <td>300x300</td>\n",
       "      <td>0.57</td>\n",
       "    </tr>\n",
       "    <tr>\n",
       "      <th>7199996</th>\n",
       "      <td>3868</td>\n",
       "      <td>996</td>\n",
       "      <td>300x300</td>\n",
       "      <td>0.57</td>\n",
       "    </tr>\n",
       "    <tr>\n",
       "      <th>7199997</th>\n",
       "      <td>3871</td>\n",
       "      <td>997</td>\n",
       "      <td>300x300</td>\n",
       "      <td>0.57</td>\n",
       "    </tr>\n",
       "    <tr>\n",
       "      <th>7199998</th>\n",
       "      <td>3770</td>\n",
       "      <td>998</td>\n",
       "      <td>300x300</td>\n",
       "      <td>0.57</td>\n",
       "    </tr>\n",
       "    <tr>\n",
       "      <th>7199999</th>\n",
       "      <td>3770</td>\n",
       "      <td>999</td>\n",
       "      <td>300x300</td>\n",
       "      <td>0.57</td>\n",
       "    </tr>\n",
       "  </tbody>\n",
       "</table>\n",
       "<p>7200000 rows × 4 columns</p>\n",
       "</div>"
      ]
     },
     "execution_count": 203,
     "metadata": {},
     "output_type": "execute_result"
    }
   ],
   "execution_count": 203
  },
  {
   "metadata": {},
   "cell_type": "markdown",
   "source": [
    "## Preprocess the data\n",
    "\n",
    "Train the model on grid size, cell density, and the current time step to predict the next time step\n",
    "\n",
    "Labels will be the population count"
   ],
   "id": "705ac8452cbe031a"
  },
  {
   "metadata": {
    "ExecuteTime": {
     "end_time": "2024-05-15T06:50:48.572063Z",
     "start_time": "2024-05-15T06:50:38.998073Z"
    }
   },
   "cell_type": "code",
   "source": [
    "# Grid size in form nxn, make it a single number\n",
    "\n",
    "data[\"Grid Size\"] = data[\"Grid Size\"].apply(lambda x: int(x.split(\"x\")[0]) * int(x.split(\"x\")[1]))"
   ],
   "id": "d07ac08d0ce39eef",
   "outputs": [],
   "execution_count": 204
  },
  {
   "metadata": {
    "ExecuteTime": {
     "end_time": "2024-05-15T06:50:52.125362Z",
     "start_time": "2024-05-15T06:50:48.587658Z"
    }
   },
   "cell_type": "code",
   "source": [
    "# Jumble data\n",
    "\n",
    "data = data.sample(frac=1).reset_index(drop=True)"
   ],
   "id": "f29cea7d3a1ea2b3",
   "outputs": [],
   "execution_count": 205
  },
  {
   "metadata": {
    "ExecuteTime": {
     "end_time": "2024-05-15T06:50:54.902091Z",
     "start_time": "2024-05-15T06:50:52.138378Z"
    }
   },
   "cell_type": "code",
   "source": [
    "X = data.drop(\"Population\", axis=1)\n",
    "y = data[\"Population\"]\n",
    "\n",
    "X_train, X_test, y_train, y_test = train_test_split(X, y, test_size=0.2)"
   ],
   "id": "25f890665f4a977e",
   "outputs": [],
   "execution_count": 206
  },
  {
   "metadata": {},
   "cell_type": "markdown",
   "source": "## Create the model",
   "id": "2f5e1798add108f9"
  },
  {
   "metadata": {
    "ExecuteTime": {
     "end_time": "2024-05-15T10:52:44.372150Z",
     "start_time": "2024-05-15T07:35:53.026980Z"
    }
   },
   "cell_type": "code",
   "source": [
    "X_scaler = StandardScaler()\n",
    "y_scaler = StandardScaler()\n",
    "\n",
    "X_scaler.fit(X_train)\n",
    "y_scaler.fit(y_train.values.reshape(-1, 1))\n",
    "\n",
    "X_train_scaled = X_scaler.transform(X_train)\n",
    "X_test_scaled = X_scaler.transform(X_test)\n",
    "\n",
    "y_train_scaled = y_scaler.transform(y_train.values.reshape(-1, 1))\n",
    "y_test_scaled = y_scaler.transform(y_test.values.reshape(-1, 1))\n",
    "\n",
    "model = tf.keras.Sequential([\n",
    "    tf.keras.layers.Dense(200, activation=\"relu\"),\n",
    "    tf.keras.layers.Dense(150, activation=\"relu\"),\n",
    "    tf.keras.layers.Dense(50, activation=\"relu\"),\n",
    "    tf.keras.layers.Dense(1, activation=\"linear\")\n",
    "])\n",
    "\n",
    "model.compile(loss=tf.keras.losses.MeanSquaredError(),\n",
    "              optimizer=tf.keras.optimizers.Adam(learning_rate=0.01),\n",
    "              metrics=[\"mean_absolute_error\"])\n",
    "\n",
    "history = model.fit(X_train_scaled, y_train_scaled, epochs=25, batch_size=64, validation_split=0.2, verbose=1)"
   ],
   "id": "4f73c5154685abf4",
   "outputs": [
    {
     "name": "stdout",
     "output_type": "stream",
     "text": [
      "Epoch 1/25\n",
      "\u001B[1m72000/72000\u001B[0m \u001B[32m━━━━━━━━━━━━━━━━━━━━\u001B[0m\u001B[37m\u001B[0m \u001B[1m70s\u001B[0m 829us/step - loss: 0.0689 - mean_absolute_error: 0.1179 - val_loss: 0.0383 - val_mean_absolute_error: 0.1341\n",
      "Epoch 2/25\n",
      "\u001B[1m72000/72000\u001B[0m \u001B[32m━━━━━━━━━━━━━━━━━━━━\u001B[0m\u001B[37m\u001B[0m \u001B[1m57s\u001B[0m 796us/step - loss: 0.0390 - mean_absolute_error: 0.0990 - val_loss: 0.0280 - val_mean_absolute_error: 0.1026\n",
      "Epoch 3/25\n",
      "\u001B[1m72000/72000\u001B[0m \u001B[32m━━━━━━━━━━━━━━━━━━━━\u001B[0m\u001B[37m\u001B[0m \u001B[1m57s\u001B[0m 784us/step - loss: 0.0359 - mean_absolute_error: 0.0929 - val_loss: 0.0254 - val_mean_absolute_error: 0.0863\n",
      "Epoch 4/25\n",
      "\u001B[1m72000/72000\u001B[0m \u001B[32m━━━━━━━━━━━━━━━━━━━━\u001B[0m\u001B[37m\u001B[0m \u001B[1m60s\u001B[0m 836us/step - loss: 0.0342 - mean_absolute_error: 0.0908 - val_loss: 0.0256 - val_mean_absolute_error: 0.0978\n",
      "Epoch 5/25\n",
      "\u001B[1m72000/72000\u001B[0m \u001B[32m━━━━━━━━━━━━━━━━━━━━\u001B[0m\u001B[37m\u001B[0m \u001B[1m61s\u001B[0m 851us/step - loss: 0.0314 - mean_absolute_error: 0.0880 - val_loss: 0.0243 - val_mean_absolute_error: 0.0908\n",
      "Epoch 6/25\n",
      "\u001B[1m72000/72000\u001B[0m \u001B[32m━━━━━━━━━━━━━━━━━━━━\u001B[0m\u001B[37m\u001B[0m \u001B[1m64s\u001B[0m 882us/step - loss: 0.0302 - mean_absolute_error: 0.0872 - val_loss: 0.0231 - val_mean_absolute_error: 0.0897\n",
      "Epoch 7/25\n",
      "\u001B[1m72000/72000\u001B[0m \u001B[32m━━━━━━━━━━━━━━━━━━━━\u001B[0m\u001B[37m\u001B[0m \u001B[1m63s\u001B[0m 875us/step - loss: 0.0292 - mean_absolute_error: 0.0865 - val_loss: 0.0236 - val_mean_absolute_error: 0.0918\n",
      "Epoch 8/25\n",
      "\u001B[1m72000/72000\u001B[0m \u001B[32m━━━━━━━━━━━━━━━━━━━━\u001B[0m\u001B[37m\u001B[0m \u001B[1m55s\u001B[0m 766us/step - loss: 0.0289 - mean_absolute_error: 0.0864 - val_loss: 0.0227 - val_mean_absolute_error: 0.0899\n",
      "Epoch 9/25\n",
      "\u001B[1m72000/72000\u001B[0m \u001B[32m━━━━━━━━━━━━━━━━━━━━\u001B[0m\u001B[37m\u001B[0m \u001B[1m57s\u001B[0m 791us/step - loss: 0.0286 - mean_absolute_error: 0.0864 - val_loss: 0.0241 - val_mean_absolute_error: 0.0968\n",
      "Epoch 10/25\n",
      "\u001B[1m72000/72000\u001B[0m \u001B[32m━━━━━━━━━━━━━━━━━━━━\u001B[0m\u001B[37m\u001B[0m \u001B[1m342s\u001B[0m 5ms/step - loss: 0.0281 - mean_absolute_error: 0.0858 - val_loss: 0.0246 - val_mean_absolute_error: 0.0993\n",
      "Epoch 11/25\n",
      "\u001B[1m72000/72000\u001B[0m \u001B[32m━━━━━━━━━━━━━━━━━━━━\u001B[0m\u001B[37m\u001B[0m \u001B[1m6917s\u001B[0m 96ms/step - loss: 0.0277 - mean_absolute_error: 0.0856 - val_loss: 0.0247 - val_mean_absolute_error: 0.1007\n",
      "Epoch 12/25\n",
      "\u001B[1m72000/72000\u001B[0m \u001B[32m━━━━━━━━━━━━━━━━━━━━\u001B[0m\u001B[37m\u001B[0m \u001B[1m509s\u001B[0m 7ms/step - loss: 0.0272 - mean_absolute_error: 0.0850 - val_loss: 0.0247 - val_mean_absolute_error: 0.1009\n",
      "Epoch 13/25\n",
      "\u001B[1m72000/72000\u001B[0m \u001B[32m━━━━━━━━━━━━━━━━━━━━\u001B[0m\u001B[37m\u001B[0m \u001B[1m338s\u001B[0m 5ms/step - loss: 0.0269 - mean_absolute_error: 0.0849 - val_loss: 0.0244 - val_mean_absolute_error: 0.1000\n",
      "Epoch 14/25\n",
      "\u001B[1m72000/72000\u001B[0m \u001B[32m━━━━━━━━━━━━━━━━━━━━\u001B[0m\u001B[37m\u001B[0m \u001B[1m232s\u001B[0m 3ms/step - loss: 0.0267 - mean_absolute_error: 0.0845 - val_loss: 0.0249 - val_mean_absolute_error: 0.1035\n",
      "Epoch 15/25\n",
      "\u001B[1m72000/72000\u001B[0m \u001B[32m━━━━━━━━━━━━━━━━━━━━\u001B[0m\u001B[37m\u001B[0m \u001B[1m61s\u001B[0m 848us/step - loss: 0.0266 - mean_absolute_error: 0.0847 - val_loss: 0.0261 - val_mean_absolute_error: 0.1066\n",
      "Epoch 16/25\n",
      "\u001B[1m72000/72000\u001B[0m \u001B[32m━━━━━━━━━━━━━━━━━━━━\u001B[0m\u001B[37m\u001B[0m \u001B[1m794s\u001B[0m 11ms/step - loss: 0.0264 - mean_absolute_error: 0.0845 - val_loss: 0.0259 - val_mean_absolute_error: 0.1087\n",
      "Epoch 17/25\n",
      "\u001B[1m72000/72000\u001B[0m \u001B[32m━━━━━━━━━━━━━━━━━━━━\u001B[0m\u001B[37m\u001B[0m \u001B[1m161s\u001B[0m 2ms/step - loss: 0.0264 - mean_absolute_error: 0.0847 - val_loss: 0.0254 - val_mean_absolute_error: 0.1070\n",
      "Epoch 18/25\n",
      "\u001B[1m72000/72000\u001B[0m \u001B[32m━━━━━━━━━━━━━━━━━━━━\u001B[0m\u001B[37m\u001B[0m \u001B[1m292s\u001B[0m 4ms/step - loss: 0.0262 - mean_absolute_error: 0.0846 - val_loss: 0.0244 - val_mean_absolute_error: 0.1033\n",
      "Epoch 19/25\n",
      "\u001B[1m72000/72000\u001B[0m \u001B[32m━━━━━━━━━━━━━━━━━━━━\u001B[0m\u001B[37m\u001B[0m \u001B[1m65s\u001B[0m 904us/step - loss: 0.0261 - mean_absolute_error: 0.0846 - val_loss: 0.0248 - val_mean_absolute_error: 0.1038\n",
      "Epoch 20/25\n",
      "\u001B[1m72000/72000\u001B[0m \u001B[32m━━━━━━━━━━━━━━━━━━━━\u001B[0m\u001B[37m\u001B[0m \u001B[1m585s\u001B[0m 8ms/step - loss: 0.0259 - mean_absolute_error: 0.0845 - val_loss: 0.0250 - val_mean_absolute_error: 0.1052\n",
      "Epoch 21/25\n",
      "\u001B[1m72000/72000\u001B[0m \u001B[32m━━━━━━━━━━━━━━━━━━━━\u001B[0m\u001B[37m\u001B[0m \u001B[1m648s\u001B[0m 9ms/step - loss: 0.0258 - mean_absolute_error: 0.0844 - val_loss: 0.0252 - val_mean_absolute_error: 0.1062\n",
      "Epoch 22/25\n",
      "\u001B[1m72000/72000\u001B[0m \u001B[32m━━━━━━━━━━━━━━━━━━━━\u001B[0m\u001B[37m\u001B[0m \u001B[1m68s\u001B[0m 948us/step - loss: 0.0259 - mean_absolute_error: 0.0845 - val_loss: 0.0253 - val_mean_absolute_error: 0.1064\n",
      "Epoch 23/25\n",
      "\u001B[1m72000/72000\u001B[0m \u001B[32m━━━━━━━━━━━━━━━━━━━━\u001B[0m\u001B[37m\u001B[0m \u001B[1m63s\u001B[0m 869us/step - loss: 0.0257 - mean_absolute_error: 0.0845 - val_loss: 0.0263 - val_mean_absolute_error: 0.1116\n",
      "Epoch 24/25\n",
      "\u001B[1m72000/72000\u001B[0m \u001B[32m━━━━━━━━━━━━━━━━━━━━\u001B[0m\u001B[37m\u001B[0m \u001B[1m65s\u001B[0m 903us/step - loss: 0.0257 - mean_absolute_error: 0.0845 - val_loss: 0.0254 - val_mean_absolute_error: 0.1076\n",
      "Epoch 25/25\n",
      "\u001B[1m72000/72000\u001B[0m \u001B[32m━━━━━━━━━━━━━━━━━━━━\u001B[0m\u001B[37m\u001B[0m \u001B[1m115s\u001B[0m 2ms/step - loss: 0.0255 - mean_absolute_error: 0.0846 - val_loss: 0.0249 - val_mean_absolute_error: 0.1054\n"
     ]
    }
   ],
   "execution_count": 209
  },
  {
   "metadata": {
    "ExecuteTime": {
     "end_time": "2024-05-15T11:48:28.553789Z",
     "start_time": "2024-05-15T11:48:27.285373Z"
    }
   },
   "cell_type": "code",
   "source": [
    "# Plot history of loss\n",
    "\n",
    "plt.plot(history.history[\"loss\"], label=\"train\")\n",
    "plt.plot(history.history[\"val_loss\"], label=\"validation\")\n",
    "plt.legend()\n",
    "plt.xlabel(\"Epoch\")\n",
    "plt.ylabel(\"Loss\")"
   ],
   "id": "f3df578672722a96",
   "outputs": [
    {
     "data": {
      "text/plain": [
       "Text(0, 0.5, 'Loss')"
      ]
     },
     "execution_count": 211,
     "metadata": {},
     "output_type": "execute_result"
    },
    {
     "data": {
      "text/plain": [
       "<Figure size 640x480 with 1 Axes>"
      ],
      "image/png": "[encoded data removed]"
     },
     "metadata": {},
     "output_type": "display_data"
    }
   ],
   "execution_count": 211
  },
  {
   "metadata": {
    "ExecuteTime": {
     "end_time": "2024-05-15T11:48:24.929460Z",
     "start_time": "2024-05-15T11:48:24.691809Z"
    }
   },
   "cell_type": "code",
   "source": "model.summary()",
   "id": "5044037d15d802d0",
   "outputs": [
    {
     "data": {
      "text/plain": [
       "\u001B[1mModel: \"sequential_14\"\u001B[0m\n"
      ],
      "text/html": [
       "<pre style=\"white-space:pre;overflow-x:auto;line-height:normal;font-family:Menlo,'DejaVu Sans Mono',consolas,'Courier New',monospace\"><span style=\"font-weight: bold\">Model: \"sequential_14\"</span>\n",
       "</pre>\n"
      ]
     },
     "metadata": {},
     "output_type": "display_data"
    },
    {
     "data": {
      "text/plain": [
       "┏━━━━━━━━━━━━━━━━━━━━━━━━━━━━━━━━━┳━━━━━━━━━━━━━━━━━━━━━━━━┳━━━━━━━━━━━━━━━┓\n",
       "┃\u001B[1m \u001B[0m\u001B[1mLayer (type)                   \u001B[0m\u001B[1m \u001B[0m┃\u001B[1m \u001B[0m\u001B[1mOutput Shape          \u001B[0m\u001B[1m \u001B[0m┃\u001B[1m \u001B[0m\u001B[1m      Param #\u001B[0m\u001B[1m \u001B[0m┃\n",
       "┡━━━━━━━━━━━━━━━━━━━━━━━━━━━━━━━━━╇━━━━━━━━━━━━━━━━━━━━━━━━╇━━━━━━━━━━━━━━━┩\n",
       "│ dense_50 (\u001B[38;5;33mDense\u001B[0m)                │ (\u001B[38;5;34m64\u001B[0m, \u001B[38;5;34m200\u001B[0m)              │           \u001B[38;5;34m800\u001B[0m │\n",
       "├─────────────────────────────────┼────────────────────────┼───────────────┤\n",
       "│ dense_51 (\u001B[38;5;33mDense\u001B[0m)                │ (\u001B[38;5;34m64\u001B[0m, \u001B[38;5;34m150\u001B[0m)              │        \u001B[38;5;34m30,150\u001B[0m │\n",
       "├─────────────────────────────────┼────────────────────────┼───────────────┤\n",
       "│ dense_52 (\u001B[38;5;33mDense\u001B[0m)                │ (\u001B[38;5;34m64\u001B[0m, \u001B[38;5;34m50\u001B[0m)               │         \u001B[38;5;34m7,550\u001B[0m │\n",
       "├─────────────────────────────────┼────────────────────────┼───────────────┤\n",
       "│ dense_53 (\u001B[38;5;33mDense\u001B[0m)                │ (\u001B[38;5;34m64\u001B[0m, \u001B[38;5;34m1\u001B[0m)                │            \u001B[38;5;34m51\u001B[0m │\n",
       "└─────────────────────────────────┴────────────────────────┴───────────────┘\n"
      ],
      "text/html": [
       "<pre style=\"white-space:pre;overflow-x:auto;line-height:normal;font-family:Menlo,'DejaVu Sans Mono',consolas,'Courier New',monospace\">┏━━━━━━━━━━━━━━━━━━━━━━━━━━━━━━━━━┳━━━━━━━━━━━━━━━━━━━━━━━━┳━━━━━━━━━━━━━━━┓\n",
       "┃<span style=\"font-weight: bold\"> Layer (type)                    </span>┃<span style=\"font-weight: bold\"> Output Shape           </span>┃<span style=\"font-weight: bold\">       Param # </span>┃\n",
       "┡━━━━━━━━━━━━━━━━━━━━━━━━━━━━━━━━━╇━━━━━━━━━━━━━━━━━━━━━━━━╇━━━━━━━━━━━━━━━┩\n",
       "│ dense_50 (<span style=\"color: #0087ff; text-decoration-color: #0087ff\">Dense</span>)                │ (<span style=\"color: #00af00; text-decoration-color: #00af00\">64</span>, <span style=\"color: #00af00; text-decoration-color: #00af00\">200</span>)              │           <span style=\"color: #00af00; text-decoration-color: #00af00\">800</span> │\n",
       "├─────────────────────────────────┼────────────────────────┼───────────────┤\n",
       "│ dense_51 (<span style=\"color: #0087ff; text-decoration-color: #0087ff\">Dense</span>)                │ (<span style=\"color: #00af00; text-decoration-color: #00af00\">64</span>, <span style=\"color: #00af00; text-decoration-color: #00af00\">150</span>)              │        <span style=\"color: #00af00; text-decoration-color: #00af00\">30,150</span> │\n",
       "├─────────────────────────────────┼────────────────────────┼───────────────┤\n",
       "│ dense_52 (<span style=\"color: #0087ff; text-decoration-color: #0087ff\">Dense</span>)                │ (<span style=\"color: #00af00; text-decoration-color: #00af00\">64</span>, <span style=\"color: #00af00; text-decoration-color: #00af00\">50</span>)               │         <span style=\"color: #00af00; text-decoration-color: #00af00\">7,550</span> │\n",
       "├─────────────────────────────────┼────────────────────────┼───────────────┤\n",
       "│ dense_53 (<span style=\"color: #0087ff; text-decoration-color: #0087ff\">Dense</span>)                │ (<span style=\"color: #00af00; text-decoration-color: #00af00\">64</span>, <span style=\"color: #00af00; text-decoration-color: #00af00\">1</span>)                │            <span style=\"color: #00af00; text-decoration-color: #00af00\">51</span> │\n",
       "└─────────────────────────────────┴────────────────────────┴───────────────┘\n",
       "</pre>\n"
      ]
     },
     "metadata": {},
     "output_type": "display_data"
    },
    {
     "data": {
      "text/plain": [
       "\u001B[1m Total params: \u001B[0m\u001B[38;5;34m115,655\u001B[0m (451.78 KB)\n"
      ],
      "text/html": [
       "<pre style=\"white-space:pre;overflow-x:auto;line-height:normal;font-family:Menlo,'DejaVu Sans Mono',consolas,'Courier New',monospace\"><span style=\"font-weight: bold\"> Total params: </span><span style=\"color: #00af00; text-decoration-color: #00af00\">115,655</span> (451.78 KB)\n",
       "</pre>\n"
      ]
     },
     "metadata": {},
     "output_type": "display_data"
    },
    {
     "data": {
      "text/plain": [
       "\u001B[1m Trainable params: \u001B[0m\u001B[38;5;34m38,551\u001B[0m (150.59 KB)\n"
      ],
      "text/html": [
       "<pre style=\"white-space:pre;overflow-x:auto;line-height:normal;font-family:Menlo,'DejaVu Sans Mono',consolas,'Courier New',monospace\"><span style=\"font-weight: bold\"> Trainable params: </span><span style=\"color: #00af00; text-decoration-color: #00af00\">38,551</span> (150.59 KB)\n",
       "</pre>\n"
      ]
     },
     "metadata": {},
     "output_type": "display_data"
    },
    {
     "data": {
      "text/plain": [
       "\u001B[1m Non-trainable params: \u001B[0m\u001B[38;5;34m0\u001B[0m (0.00 B)\n"
      ],
      "text/html": [
       "<pre style=\"white-space:pre;overflow-x:auto;line-height:normal;font-family:Menlo,'DejaVu Sans Mono',consolas,'Courier New',monospace\"><span style=\"font-weight: bold\"> Non-trainable params: </span><span style=\"color: #00af00; text-decoration-color: #00af00\">0</span> (0.00 B)\n",
       "</pre>\n"
      ]
     },
     "metadata": {},
     "output_type": "display_data"
    },
    {
     "data": {
      "text/plain": [
       "\u001B[1m Optimizer params: \u001B[0m\u001B[38;5;34m77,104\u001B[0m (301.19 KB)\n"
      ],
      "text/html": [
       "<pre style=\"white-space:pre;overflow-x:auto;line-height:normal;font-family:Menlo,'DejaVu Sans Mono',consolas,'Courier New',monospace\"><span style=\"font-weight: bold\"> Optimizer params: </span><span style=\"color: #00af00; text-decoration-color: #00af00\">77,104</span> (301.19 KB)\n",
       "</pre>\n"
      ]
     },
     "metadata": {},
     "output_type": "display_data"
    }
   ],
   "execution_count": 210
  },
  {
   "metadata": {},
   "cell_type": "markdown",
   "source": "Plot the model",
   "id": "2ccaa92e8d8bcf0a"
  },
  {
   "metadata": {
    "ExecuteTime": {
     "end_time": "2024-05-15T11:49:57.728656Z",
     "start_time": "2024-05-15T11:48:38.381951Z"
    }
   },
   "cell_type": "code",
   "source": [
    "# predict\n",
    "y_pred = model.predict(X_scaler.transform(X_test))"
   ],
   "id": "90d66e7b37a88efc",
   "outputs": [
    {
     "name": "stdout",
     "output_type": "stream",
     "text": [
      "\u001B[1m45000/45000\u001B[0m \u001B[32m━━━━━━━━━━━━━━━━━━━━\u001B[0m\u001B[37m\u001B[0m \u001B[1m68s\u001B[0m 1ms/step\n"
     ]
    }
   ],
   "execution_count": 212
  },
  {
   "metadata": {},
   "cell_type": "markdown",
   "source": "## Make some predictions",
   "id": "456d41ab14f168eb"
  },
  {
   "metadata": {
    "ExecuteTime": {
     "end_time": "2024-05-19T13:34:06.023415Z",
     "start_time": "2024-05-19T13:34:05.750414Z"
    }
   },
   "cell_type": "code",
   "source": [
    "generation_max = 1000\n",
    "grid_size = 100\n",
    "density = 0.39\n",
    "\n",
    "X_new = pd.DataFrame({\n",
    "    \"Generation\": range(generation_max),\n",
    "    \"Grid Size\": [grid_size*grid_size]*generation_max,\n",
    "    \"Density\": [density]*generation_max,\n",
    "})\n",
    "\n",
    "X_new_scaled = X_scaler.transform(X_new)\n",
    "y_new_pred_scaled = model.predict(X_new_scaled)\n",
    "y_new_pred = y_scaler.inverse_transform(y_new_pred_scaled).squeeze()"
   ],
   "id": "6e7fad44080a3aa8",
   "outputs": [
    {
     "ename": "NameError",
     "evalue": "name 'pd' is not defined",
     "output_type": "error",
     "traceback": [
      "\u001B[0;31m---------------------------------------------------------------------------\u001B[0m",
      "\u001B[0;31mNameError\u001B[0m                                 Traceback (most recent call last)",
      "Cell \u001B[0;32mIn[1], line 5\u001B[0m\n\u001B[1;32m      2\u001B[0m grid_size \u001B[38;5;241m=\u001B[39m \u001B[38;5;241m100\u001B[39m\n\u001B[1;32m      3\u001B[0m density \u001B[38;5;241m=\u001B[39m \u001B[38;5;241m0.39\u001B[39m\n\u001B[0;32m----> 5\u001B[0m X_new \u001B[38;5;241m=\u001B[39m \u001B[43mpd\u001B[49m\u001B[38;5;241m.\u001B[39mDataFrame({\n\u001B[1;32m      6\u001B[0m     \u001B[38;5;124m\"\u001B[39m\u001B[38;5;124mGeneration\u001B[39m\u001B[38;5;124m\"\u001B[39m: \u001B[38;5;28mrange\u001B[39m(generation_max),\n\u001B[1;32m      7\u001B[0m     \u001B[38;5;124m\"\u001B[39m\u001B[38;5;124mGrid Size\u001B[39m\u001B[38;5;124m\"\u001B[39m: [grid_size\u001B[38;5;241m*\u001B[39mgrid_size]\u001B[38;5;241m*\u001B[39mgeneration_max,\n\u001B[1;32m      8\u001B[0m     \u001B[38;5;124m\"\u001B[39m\u001B[38;5;124mDensity\u001B[39m\u001B[38;5;124m\"\u001B[39m: [density]\u001B[38;5;241m*\u001B[39mgeneration_max,\n\u001B[1;32m      9\u001B[0m })\n\u001B[1;32m     11\u001B[0m X_new_scaled \u001B[38;5;241m=\u001B[39m X_scaler\u001B[38;5;241m.\u001B[39mtransform(X_new)\n\u001B[1;32m     12\u001B[0m y_new_pred_scaled \u001B[38;5;241m=\u001B[39m model\u001B[38;5;241m.\u001B[39mpredict(X_new_scaled)\n",
      "\u001B[0;31mNameError\u001B[0m: name 'pd' is not defined"
     ]
    }
   ],
   "execution_count": 1
  },
  {
   "metadata": {
    "ExecuteTime": {
     "end_time": "2024-05-19T13:34:06.026652Z",
     "start_time": "2024-05-19T13:34:06.026327Z"
    }
   },
   "cell_type": "code",
   "source": [
    "filtered_data = data.query(f'`Grid Size` == {grid_size}*{grid_size} and Density == {density}')\n",
    "filtered_data = filtered_data.sort_values(\"Generation\")\n",
    "filtered_data = filtered_data.groupby(\"Generation\").mean()\n",
    "\n",
    "plt.plot(range(len(filtered_data))[:generation_max], filtered_data[\"Population\"][:generation_max], label=\"Real Population\")\n",
    "\n",
    "plt.plot(range(generation_max), y_new_pred, label=\"Predicted Population\")\n",
    "plt.legend()"
   ],
   "id": "b1ba24573cb4484",
   "outputs": [],
   "execution_count": null
  },
  {
   "metadata": {
    "ExecuteTime": {
     "end_time": "2024-05-15T11:51:30.577063Z",
     "start_time": "2024-05-15T11:51:29.792770Z"
    }
   },
   "cell_type": "code",
   "source": [
    "plt.title(\"Prediction accuracy (how far off the prediction is)\")\n",
    "plt.plot(range(generation_max), abs(y_new_pred - filtered_data[\"Population\"]), label=\"Absolute Error\")"
   ],
   "id": "b92448ee56948961",
   "outputs": [
    {
     "data": {
      "text/plain": [
       "[<matplotlib.lines.Line2D at 0x29d908af0>]"
      ]
     },
     "execution_count": 228,
     "metadata": {},
     "output_type": "execute_result"
    },
    {
     "data": {
      "text/plain": [
       "<Figure size 640x480 with 1 Axes>"
      ],
      "image/png": "[encoded data removed]"
     },
     "metadata": {},
     "output_type": "display_data"
    }
   ],
   "execution_count": 228
  },
  {
   "metadata": {},
   "cell_type": "code",
   "outputs": [],
   "execution_count": null,
   "source": "",
   "id": "bb7826c6e70baa24"
  }
 ],
 "metadata": {
  "kernelspec": {
   "display_name": "Python 3",
   "language": "python",
   "name": "python3"
  },
  "language_info": {
   "codemirror_mode": {
    "name": "ipython",
    "version": 2
   },
   "file_extension": ".py",
   "mimetype": "text/x-python",
   "name": "python",
   "nbconvert_exporter": "python",
   "pygments_lexer": "ipython2",
   "version": "2.7.6"
  }
 },
 "nbformat": 4,
 "nbformat_minor": 5
}
